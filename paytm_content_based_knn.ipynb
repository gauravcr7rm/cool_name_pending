{
  "nbformat": 4,
  "nbformat_minor": 0,
  "metadata": {
    "colab": {
      "name": "paytm_content_based_knn.ipynb",
      "version": "0.3.2",
      "provenance": [],
      "include_colab_link": true
    },
    "kernelspec": {
      "name": "python3",
      "display_name": "Python 3"
    }
  },
  "cells": [
    {
      "cell_type": "markdown",
      "metadata": {
        "id": "view-in-github",
        "colab_type": "text"
      },
      "source": [
        "<a href=\"https://colab.research.google.com/github/gauravcr7rm/cool_name_pending/blob/master/paytm_content_based_knn.ipynb\" target=\"_parent\"><img src=\"https://colab.research.google.com/assets/colab-badge.svg\" alt=\"Open In Colab\"/></a>"
      ]
    },
    {
      "metadata": {
        "id": "469cjqltXglN",
        "colab_type": "code",
        "colab": {
          "base_uri": "https://localhost:8080/",
          "height": 90
        },
        "outputId": "c5cf1aa9-0f5d-44c2-8c29-069f5556a06e"
      },
      "cell_type": "code",
      "source": [
        "import matplotlib.pyplot as plt\n",
        "from matplotlib import style\n",
        "style.use('ggplot')\n",
        "import numpy as np\n",
        "from sklearn.cluster import KMeans\n",
        "from sklearn import preprocessing\n",
        "import pandas as pd\n",
        "\n",
        "df = pd.read_csv('content_based_dataset.csv',encoding='latin')\n",
        "#print(df.head())\n",
        "df.drop(['product_id'], 1, inplace=True)\n",
        "df.convert_objects(convert_numeric=True)\n",
        "df.fillna(0, inplace=True)\n",
        "#print(df.head())\n",
        "\n",
        "def handle_non_numerical_data(df):\n",
        "    columns = df.columns.values\n",
        "\n",
        "    for column in columns:\n",
        "        text_digit_vals = {}\n",
        "        def convert_to_int(val):\n",
        "            return text_digit_vals[val]\n",
        "\n",
        "        if df[column].dtype != np.int64 and df[column].dtype != np.float64:\n",
        "            column_contents = df[column].values.tolist()\n",
        "            unique_elements = set(column_contents)\n",
        "            x = 0\n",
        "            for unique in unique_elements:\n",
        "                if unique not in text_digit_vals:\n",
        "                    text_digit_vals[unique] = x\n",
        "                    x+=1\n",
        "\n",
        "            df[column] = list(map(convert_to_int, df[column]))\n",
        "\n",
        "    return df\n",
        "\n",
        "df = handle_non_numerical_data(df)\n",
        "#From here, we can right away do the clustering:\n",
        "\n",
        "#X = np.array(df.drop(['survived'], 1).astype(float))\n",
        "#y = np.array(df['survived'])\n",
        "\n",
        "clf = KMeans(n_clusters=5)\n",
        "clf.fit(df)\n",
        "clf.fit_predict(df)\n",
        "df.loc[:,'labels']= clf.labels_"
      ],
      "execution_count": 2,
      "outputs": [
        {
          "output_type": "stream",
          "text": [
            "/usr/local/lib/python3.6/dist-packages/ipykernel_launcher.py:12: FutureWarning: convert_objects is deprecated.  To re-infer data dtypes for object columns, use DataFrame.infer_objects()\n",
            "For all other conversions use the data-type specific converters pd.to_datetime, pd.to_timedelta and pd.to_numeric.\n",
            "  if sys.path[0] == '':\n"
          ],
          "name": "stderr"
        }
      ]
    },
    {
      "metadata": {
        "id": "gjvaGN5ojlyF",
        "colab_type": "code",
        "colab": {
          "base_uri": "https://localhost:8080/",
          "height": 995
        },
        "outputId": "15878998-90e6-445a-bac4-d4fb7889727a"
      },
      "cell_type": "code",
      "source": [
        "print(df)"
      ],
      "execution_count": 4,
      "outputs": [
        {
          "output_type": "stream",
          "text": [
            "    product_name  category  ram  memory  mileage  speed    price  Isdigital  \\\n",
            "0             16         2    2       1        0   1000    10000          1   \n",
            "1              7         2    4       2        0   2000    16000          1   \n",
            "2              9         2    2       3        0   3000    20000          1   \n",
            "3             11         2    3       4        0   3500    25000          1   \n",
            "4             12         9    0       0       40     79   200000          0   \n",
            "5              3         9    0       0       20     80  6000000          0   \n",
            "6             17         9    0       0       30     40   100000          0   \n",
            "7             19         8    0       0       50     89    75000          0   \n",
            "8             13         8    0       0       30    100    90000          0   \n",
            "9             18         8    0       0       45      0    60000          0   \n",
            "10             4         0    0       0        0      0     1000          0   \n",
            "11            14         0    0       0        0      0     3000          1   \n",
            "12            23         3    0       0        0      0     1500          0   \n",
            "13            24         3    0       0        0      0     2000          0   \n",
            "14             1        10    0       0        0      0      500          0   \n",
            "15             8        10    0       0        0      0      200          0   \n",
            "16            20         1    0       0        0      0      100          0   \n",
            "17            22         1    0       0        0      0        5          0   \n",
            "18             2         4    0       0        0      0      250          0   \n",
            "19             5         4    0       0        0      0      500          0   \n",
            "20            25         5    0       0        0      0     7000          0   \n",
            "21            15         5    0       0        0      0    12000          0   \n",
            "22            10         6    0       0        0      0     5000          0   \n",
            "23            21         6    0       0        0      0    17000          0   \n",
            "24             0         7    4       6        0   8000    45000          1   \n",
            "25             6         7    6       8        0   9000    80000          1   \n",
            "\n",
            "    brand  colour  power  sound  labels  \n",
            "0      13       8     15     10       2  \n",
            "1       7       9     10     20       2  \n",
            "2      11       2      0     15       2  \n",
            "3      12       7      3     18       2  \n",
            "4      10       1     25     30       3  \n",
            "5      14       6     11     35       1  \n",
            "6      18       7     19     45       4  \n",
            "7      23       3     21     56       4  \n",
            "8       2       9     17     45       4  \n",
            "9      24       2     14      1       0  \n",
            "10      3       7      9      2       2  \n",
            "11     20       9     23      0       2  \n",
            "12     22       8     13      0       2  \n",
            "13     19       6      4      1       2  \n",
            "14      2       5     18      1       2  \n",
            "15      0       7     20      0       2  \n",
            "16     17       2     24      0       2  \n",
            "17      8       0     12      0       2  \n",
            "18      1       4     16     10       2  \n",
            "19      5       4      1      0       2  \n",
            "20      6       9      8      0       2  \n",
            "21     15       7      5      0       2  \n",
            "22      4       8      2      0       2  \n",
            "23      9       6      6      0       2  \n",
            "24     16       9      7     10       0  \n",
            "25     21       7     22     15       4  \n"
          ],
          "name": "stdout"
        }
      ]
    },
    {
      "metadata": {
        "id": "XG5DCEAJkFtS",
        "colab_type": "code",
        "colab": {}
      },
      "cell_type": "code",
      "source": [
        ""
      ],
      "execution_count": 0,
      "outputs": []
    }
  ]
}