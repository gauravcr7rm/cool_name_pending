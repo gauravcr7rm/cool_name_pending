{
  "nbformat": 4,
  "nbformat_minor": 0,
  "metadata": {
    "colab": {
      "name": "Untitled2.ipynb",
      "version": "0.3.2",
      "provenance": [],
      "include_colab_link": true
    },
    "kernelspec": {
      "name": "python3",
      "display_name": "Python 3"
    }
  },
  "cells": [
    {
      "cell_type": "markdown",
      "metadata": {
        "id": "view-in-github",
        "colab_type": "text"
      },
      "source": [
        "<a href=\"https://colab.research.google.com/github/gauravcr7rm/cool_name_pending/blob/master/Untitled2.ipynb\" target=\"_parent\"><img src=\"https://colab.research.google.com/assets/colab-badge.svg\" alt=\"Open In Colab\"/></a>"
      ]
    },
    {
      "metadata": {
        "id": "I1hOypAc7pwh",
        "colab_type": "code",
        "colab": {}
      },
      "cell_type": "code",
      "source": [
        ""
      ],
      "execution_count": 0,
      "outputs": []
    },
    {
      "metadata": {
        "id": "fGBL_31s-P7S",
        "colab_type": "code",
        "outputId": "7349bb8e-40e5-4edb-f991-99b8a957dc33",
        "colab": {
          "base_uri": "https://localhost:8080/",
          "height": 94
        }
      },
      "cell_type": "code",
      "source": [
        "import matplotlib.pyplot as plt\n",
        "from matplotlib import style\n",
        "style.use('ggplot')\n",
        "import numpy as np\n",
        "from sklearn.cluster import KMeans\n",
        "from sklearn import preprocessing\n",
        "import pandas as pd\n",
        "\n",
        "df = pd.read_csv('content_based_dataset.csv',encoding='latin')\n",
        "#print(df.head())\n",
        "df.drop(['product_id'], 1, inplace=True)\n",
        "df.convert_objects(convert_numeric=True)\n",
        "df.fillna(0, inplace=True)\n",
        "#print(df.head())\n",
        "\n",
        "def handle_non_numerical_data(df):\n",
        "    columns = df.columns.values\n",
        "\n",
        "    for column in columns:\n",
        "        text_digit_vals = {}\n",
        "        def convert_to_int(val):\n",
        "            return text_digit_vals[val]\n",
        "\n",
        "        if df[column].dtype != np.int64 and df[column].dtype != np.float64:\n",
        "            column_contents = df[column].values.tolist()\n",
        "            unique_elements = set(column_contents)\n",
        "            x = 0\n",
        "            for unique in unique_elements:\n",
        "                if unique not in text_digit_vals:\n",
        "                    text_digit_vals[unique] = x\n",
        "                    x+=1\n",
        "\n",
        "            df[column] = list(map(convert_to_int, df[column]))\n",
        "\n",
        "    return df\n",
        "\n",
        "df = handle_non_numerical_data(df)\n",
        "#From here, we can right away do the clustering:\n",
        "\n",
        "#X = np.array(df.drop(['survived'], 1).astype(float))\n",
        "#y = np.array(df['survived'])\n",
        "\n",
        "clf = KMeans(n_clusters=5)\n",
        "clf.fit(df)\n",
        "clf.fit_predict(df)\n",
        "df.loc[:,'labels']= clf.labels_"
      ],
      "execution_count": 0,
      "outputs": [
        {
          "output_type": "stream",
          "text": [
            "/usr/local/lib/python3.6/dist-packages/ipykernel_launcher.py:12: FutureWarning: convert_objects is deprecated.  To re-infer data dtypes for object columns, use DataFrame.infer_objects()\n",
            "For all other conversions use the data-type specific converters pd.to_datetime, pd.to_timedelta and pd.to_numeric.\n",
            "  if sys.path[0] == '':\n"
          ],
          "name": "stderr"
        }
      ]
    },
    {
      "metadata": {
        "id": "JRc9MRU26Md_",
        "colab_type": "code",
        "outputId": "8e76d5c3-a6f0-48a1-c3db-ffce6052484c",
        "colab": {
          "base_uri": "https://localhost:8080/",
          "height": 204
        }
      },
      "cell_type": "code",
      "source": [
        "df.head()"
      ],
      "execution_count": 0,
      "outputs": [
        {
          "output_type": "execute_result",
          "data": {
            "text/html": [
              "<div>\n",
              "<style scoped>\n",
              "    .dataframe tbody tr th:only-of-type {\n",
              "        vertical-align: middle;\n",
              "    }\n",
              "\n",
              "    .dataframe tbody tr th {\n",
              "        vertical-align: top;\n",
              "    }\n",
              "\n",
              "    .dataframe thead th {\n",
              "        text-align: right;\n",
              "    }\n",
              "</style>\n",
              "<table border=\"1\" class=\"dataframe\">\n",
              "  <thead>\n",
              "    <tr style=\"text-align: right;\">\n",
              "      <th></th>\n",
              "      <th>product_name</th>\n",
              "      <th>category</th>\n",
              "      <th>ram</th>\n",
              "      <th>memory</th>\n",
              "      <th>mileage</th>\n",
              "      <th>speed</th>\n",
              "      <th>price</th>\n",
              "      <th>Isdigital</th>\n",
              "      <th>brand</th>\n",
              "      <th>colour</th>\n",
              "      <th>power</th>\n",
              "      <th>sound</th>\n",
              "      <th>labels</th>\n",
              "    </tr>\n",
              "  </thead>\n",
              "  <tbody>\n",
              "    <tr>\n",
              "      <th>0</th>\n",
              "      <td>13</td>\n",
              "      <td>0</td>\n",
              "      <td>2</td>\n",
              "      <td>1</td>\n",
              "      <td>0</td>\n",
              "      <td>1000</td>\n",
              "      <td>10000</td>\n",
              "      <td>1</td>\n",
              "      <td>3</td>\n",
              "      <td>3</td>\n",
              "      <td>17</td>\n",
              "      <td>10</td>\n",
              "      <td>2</td>\n",
              "    </tr>\n",
              "    <tr>\n",
              "      <th>1</th>\n",
              "      <td>22</td>\n",
              "      <td>0</td>\n",
              "      <td>4</td>\n",
              "      <td>2</td>\n",
              "      <td>0</td>\n",
              "      <td>2000</td>\n",
              "      <td>16000</td>\n",
              "      <td>1</td>\n",
              "      <td>22</td>\n",
              "      <td>2</td>\n",
              "      <td>3</td>\n",
              "      <td>20</td>\n",
              "      <td>2</td>\n",
              "    </tr>\n",
              "    <tr>\n",
              "      <th>2</th>\n",
              "      <td>20</td>\n",
              "      <td>0</td>\n",
              "      <td>2</td>\n",
              "      <td>3</td>\n",
              "      <td>0</td>\n",
              "      <td>3000</td>\n",
              "      <td>20000</td>\n",
              "      <td>1</td>\n",
              "      <td>15</td>\n",
              "      <td>6</td>\n",
              "      <td>16</td>\n",
              "      <td>15</td>\n",
              "      <td>2</td>\n",
              "    </tr>\n",
              "    <tr>\n",
              "      <th>3</th>\n",
              "      <td>8</td>\n",
              "      <td>0</td>\n",
              "      <td>3</td>\n",
              "      <td>4</td>\n",
              "      <td>0</td>\n",
              "      <td>3500</td>\n",
              "      <td>25000</td>\n",
              "      <td>1</td>\n",
              "      <td>7</td>\n",
              "      <td>5</td>\n",
              "      <td>23</td>\n",
              "      <td>18</td>\n",
              "      <td>2</td>\n",
              "    </tr>\n",
              "    <tr>\n",
              "      <th>4</th>\n",
              "      <td>14</td>\n",
              "      <td>1</td>\n",
              "      <td>0</td>\n",
              "      <td>0</td>\n",
              "      <td>40</td>\n",
              "      <td>79</td>\n",
              "      <td>200000</td>\n",
              "      <td>0</td>\n",
              "      <td>17</td>\n",
              "      <td>1</td>\n",
              "      <td>10</td>\n",
              "      <td>30</td>\n",
              "      <td>3</td>\n",
              "    </tr>\n",
              "  </tbody>\n",
              "</table>\n",
              "</div>"
            ],
            "text/plain": [
              "   product_name  category  ram  memory  mileage  speed   price  Isdigital  \\\n",
              "0            13         0    2       1        0   1000   10000          1   \n",
              "1            22         0    4       2        0   2000   16000          1   \n",
              "2            20         0    2       3        0   3000   20000          1   \n",
              "3             8         0    3       4        0   3500   25000          1   \n",
              "4            14         1    0       0       40     79  200000          0   \n",
              "\n",
              "   brand  colour  power  sound  labels  \n",
              "0      3       3     17     10       2  \n",
              "1     22       2      3     20       2  \n",
              "2     15       6     16     15       2  \n",
              "3      7       5     23     18       2  \n",
              "4     17       1     10     30       3  "
            ]
          },
          "metadata": {
            "tags": []
          },
          "execution_count": 6
        }
      ]
    },
    {
      "metadata": {
        "id": "VWDsTkSA7DRq",
        "colab_type": "code",
        "outputId": "dc8ed575-6ce0-49bb-f3c0-dadec092dd54",
        "colab": {
          "base_uri": "https://localhost:8080/",
          "height": 36
        }
      },
      "cell_type": "code",
      "source": [
        "print(df.size)"
      ],
      "execution_count": 0,
      "outputs": [
        {
          "output_type": "stream",
          "text": [
            "338\n"
          ],
          "name": "stdout"
        }
      ]
    },
    {
      "metadata": {
        "id": "QXJv2PhR7Fpp",
        "colab_type": "code",
        "colab": {}
      },
      "cell_type": "code",
      "source": [
        "dict = {'1': [\"mobile phone\", \"pc\", \"earphones\"], '2' : [\"car\", \"bike\"], '3' : [\"watch\", \"bag\"], '4' : [\"fan\", \"light\"], '5' : [\"jewellery\", \"furniture\"]}"
      ],
      "execution_count": 0,
      "outputs": []
    },
    {
      "metadata": {
        "id": "ni59hy7S_SVm",
        "colab_type": "code",
        "outputId": "093dc6a4-79e6-4be4-8516-a5680fe3820a",
        "colab": {
          "base_uri": "https://localhost:8080/",
          "height": 36
        }
      },
      "cell_type": "code",
      "source": [
        "recommender_list =[]\n",
        "prev_3_buyed = ['1', '3', '4']\n",
        "for i in prev_3_buyed:\n",
        "  recommender_list.append(dict[i])\n",
        "print(recommender_list)\n",
        "  \n",
        "  "
      ],
      "execution_count": 0,
      "outputs": [
        {
          "output_type": "stream",
          "text": [
            "[['mobile phone', 'pc', 'earphones'], ['watch', 'bag'], ['fan', 'light']]\n"
          ],
          "name": "stdout"
        }
      ]
    }
  ]
}