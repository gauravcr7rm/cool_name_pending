{
  "nbformat": 4,
  "nbformat_minor": 0,
  "metadata": {
    "colab": {
      "name": "paytm_forecasting.ipynb",
      "version": "0.3.2",
      "provenance": [],
      "include_colab_link": true
    },
    "kernelspec": {
      "name": "python3",
      "display_name": "Python 3"
    }
  },
  "cells": [
    {
      "cell_type": "markdown",
      "metadata": {
        "id": "view-in-github",
        "colab_type": "text"
      },
      "source": [
        "<a href=\"https://colab.research.google.com/github/gauravcr7rm/cool_name_pending/blob/master/paytm_forecasting.ipynb\" target=\"_parent\"><img src=\"https://colab.research.google.com/assets/colab-badge.svg\" alt=\"Open In Colab\"/></a>"
      ]
    },
    {
      "metadata": {
        "id": "Y225k3CVVVL3",
        "colab_type": "code",
        "colab": {}
      },
      "cell_type": "code",
      "source": [
        "import pandas as pd\n",
        "import numpy as np\n",
        "data = pd.read_csv(\"data.csv\")\n",
        "data.shape"
      ],
      "execution_count": 0,
      "outputs": []
    },
    {
      "metadata": {
        "id": "oow8HnbeVufc",
        "colab_type": "code",
        "colab": {
          "base_uri": "https://localhost:8080/",
          "height": 194
        },
        "outputId": "395c0ad2-965c-4330-9a81-8b0f517b609e"
      },
      "cell_type": "code",
      "source": [
        "data.head()"
      ],
      "execution_count": 16,
      "outputs": [
        {
          "output_type": "execute_result",
          "data": {
            "text/html": [
              "<div>\n",
              "<style scoped>\n",
              "    .dataframe tbody tr th:only-of-type {\n",
              "        vertical-align: middle;\n",
              "    }\n",
              "\n",
              "    .dataframe tbody tr th {\n",
              "        vertical-align: top;\n",
              "    }\n",
              "\n",
              "    .dataframe thead th {\n",
              "        text-align: right;\n",
              "    }\n",
              "</style>\n",
              "<table border=\"1\" class=\"dataframe\">\n",
              "  <thead>\n",
              "    <tr style=\"text-align: right;\">\n",
              "      <th></th>\n",
              "      <th>InvoiceNo</th>\n",
              "      <th>StockCode</th>\n",
              "      <th>Description</th>\n",
              "      <th>Quantity</th>\n",
              "      <th>InvoiceDate</th>\n",
              "      <th>UnitPrice</th>\n",
              "      <th>CustomerID</th>\n",
              "      <th>Country</th>\n",
              "      <th>lowercase_descriptions</th>\n",
              "    </tr>\n",
              "  </thead>\n",
              "  <tbody>\n",
              "    <tr>\n",
              "      <th>0</th>\n",
              "      <td>536365</td>\n",
              "      <td>85123A</td>\n",
              "      <td>WHITE HANGING HEART T-LIGHT HOLDER</td>\n",
              "      <td>6</td>\n",
              "      <td>12/1/2010 8:26</td>\n",
              "      <td>2.55</td>\n",
              "      <td>17850</td>\n",
              "      <td>United Kingdom</td>\n",
              "      <td>white hanging heart t-light holder</td>\n",
              "    </tr>\n",
              "    <tr>\n",
              "      <th>1</th>\n",
              "      <td>536365</td>\n",
              "      <td>71053</td>\n",
              "      <td>WHITE METAL LANTERN</td>\n",
              "      <td>6</td>\n",
              "      <td>12/1/2010 8:26</td>\n",
              "      <td>3.39</td>\n",
              "      <td>17850</td>\n",
              "      <td>United Kingdom</td>\n",
              "      <td>white metal lantern</td>\n",
              "    </tr>\n",
              "    <tr>\n",
              "      <th>2</th>\n",
              "      <td>536365</td>\n",
              "      <td>84406B</td>\n",
              "      <td>CREAM CUPID HEARTS COAT HANGER</td>\n",
              "      <td>8</td>\n",
              "      <td>12/1/2010 8:26</td>\n",
              "      <td>2.75</td>\n",
              "      <td>17850</td>\n",
              "      <td>United Kingdom</td>\n",
              "      <td>cream cupid hearts coat hanger</td>\n",
              "    </tr>\n",
              "    <tr>\n",
              "      <th>3</th>\n",
              "      <td>536365</td>\n",
              "      <td>84029G</td>\n",
              "      <td>KNITTED UNION FLAG HOT WATER BOTTLE</td>\n",
              "      <td>6</td>\n",
              "      <td>12/1/2010 8:26</td>\n",
              "      <td>3.39</td>\n",
              "      <td>17850</td>\n",
              "      <td>United Kingdom</td>\n",
              "      <td>knitted union flag hot water bottle</td>\n",
              "    </tr>\n",
              "    <tr>\n",
              "      <th>4</th>\n",
              "      <td>536365</td>\n",
              "      <td>84029E</td>\n",
              "      <td>RED WOOLLY HOTTIE WHITE HEART.</td>\n",
              "      <td>6</td>\n",
              "      <td>12/1/2010 8:26</td>\n",
              "      <td>3.39</td>\n",
              "      <td>17850</td>\n",
              "      <td>United Kingdom</td>\n",
              "      <td>red woolly hottie white heart.</td>\n",
              "    </tr>\n",
              "  </tbody>\n",
              "</table>\n",
              "</div>"
            ],
            "text/plain": [
              "  InvoiceNo StockCode                          Description  Quantity  \\\n",
              "0    536365    85123A   WHITE HANGING HEART T-LIGHT HOLDER         6   \n",
              "1    536365     71053                  WHITE METAL LANTERN         6   \n",
              "2    536365    84406B       CREAM CUPID HEARTS COAT HANGER         8   \n",
              "3    536365    84029G  KNITTED UNION FLAG HOT WATER BOTTLE         6   \n",
              "4    536365    84029E       RED WOOLLY HOTTIE WHITE HEART.         6   \n",
              "\n",
              "      InvoiceDate  UnitPrice CustomerID         Country  \\\n",
              "0  12/1/2010 8:26       2.55      17850  United Kingdom   \n",
              "1  12/1/2010 8:26       3.39      17850  United Kingdom   \n",
              "2  12/1/2010 8:26       2.75      17850  United Kingdom   \n",
              "3  12/1/2010 8:26       3.39      17850  United Kingdom   \n",
              "4  12/1/2010 8:26       3.39      17850  United Kingdom   \n",
              "\n",
              "                lowercase_descriptions  \n",
              "0   white hanging heart t-light holder  \n",
              "1                  white metal lantern  \n",
              "2       cream cupid hearts coat hanger  \n",
              "3  knitted union flag hot water bottle  \n",
              "4       red woolly hottie white heart.  "
            ]
          },
          "metadata": {
            "tags": []
          },
          "execution_count": 16
        }
      ]
    },
    {
      "metadata": {
        "id": "lkKcX5ykYP_u",
        "colab_type": "code",
        "colab": {
          "base_uri": "https://localhost:8080/",
          "height": 195
        },
        "outputId": "9da64ff0-49a6-4369-e54c-c9d983bebc56"
      },
      "cell_type": "code",
      "source": [
        "data.isnull().sum() / data.shape[0] * 100"
      ],
      "execution_count": 17,
      "outputs": [
        {
          "output_type": "execute_result",
          "data": {
            "text/plain": [
              "InvoiceNo                  0.000000\n",
              "StockCode                  0.000000\n",
              "Description                0.313597\n",
              "Quantity                   0.000000\n",
              "InvoiceDate                0.000000\n",
              "UnitPrice                  0.002680\n",
              "CustomerID                34.522501\n",
              "Country                    0.002680\n",
              "lowercase_descriptions     0.313597\n",
              "dtype: float64"
            ]
          },
          "metadata": {
            "tags": []
          },
          "execution_count": 17
        }
      ]
    },
    {
      "metadata": {
        "id": "R2fHLGlfYZP3",
        "colab_type": "code",
        "colab": {
          "base_uri": "https://localhost:8080/",
          "height": 194
        },
        "outputId": "543c1ece-7719-438f-b56a-a5b068a7fa06"
      },
      "cell_type": "code",
      "source": [
        "data[data.Description.isnull()].head()"
      ],
      "execution_count": 18,
      "outputs": [
        {
          "output_type": "execute_result",
          "data": {
            "text/html": [
              "<div>\n",
              "<style scoped>\n",
              "    .dataframe tbody tr th:only-of-type {\n",
              "        vertical-align: middle;\n",
              "    }\n",
              "\n",
              "    .dataframe tbody tr th {\n",
              "        vertical-align: top;\n",
              "    }\n",
              "\n",
              "    .dataframe thead th {\n",
              "        text-align: right;\n",
              "    }\n",
              "</style>\n",
              "<table border=\"1\" class=\"dataframe\">\n",
              "  <thead>\n",
              "    <tr style=\"text-align: right;\">\n",
              "      <th></th>\n",
              "      <th>InvoiceNo</th>\n",
              "      <th>StockCode</th>\n",
              "      <th>Description</th>\n",
              "      <th>Quantity</th>\n",
              "      <th>InvoiceDate</th>\n",
              "      <th>UnitPrice</th>\n",
              "      <th>CustomerID</th>\n",
              "      <th>Country</th>\n",
              "      <th>lowercase_descriptions</th>\n",
              "    </tr>\n",
              "  </thead>\n",
              "  <tbody>\n",
              "    <tr>\n",
              "      <th>622</th>\n",
              "      <td>536414</td>\n",
              "      <td>22139</td>\n",
              "      <td>NaN</td>\n",
              "      <td>56</td>\n",
              "      <td>12/1/2010 11:52</td>\n",
              "      <td>0.0</td>\n",
              "      <td>NaN</td>\n",
              "      <td>United Kingdom</td>\n",
              "      <td>NaN</td>\n",
              "    </tr>\n",
              "    <tr>\n",
              "      <th>1970</th>\n",
              "      <td>536545</td>\n",
              "      <td>21134</td>\n",
              "      <td>NaN</td>\n",
              "      <td>1</td>\n",
              "      <td>12/1/2010 14:32</td>\n",
              "      <td>0.0</td>\n",
              "      <td>NaN</td>\n",
              "      <td>United Kingdom</td>\n",
              "      <td>NaN</td>\n",
              "    </tr>\n",
              "    <tr>\n",
              "      <th>1971</th>\n",
              "      <td>536546</td>\n",
              "      <td>22145</td>\n",
              "      <td>NaN</td>\n",
              "      <td>1</td>\n",
              "      <td>12/1/2010 14:33</td>\n",
              "      <td>0.0</td>\n",
              "      <td>NaN</td>\n",
              "      <td>United Kingdom</td>\n",
              "      <td>NaN</td>\n",
              "    </tr>\n",
              "    <tr>\n",
              "      <th>1972</th>\n",
              "      <td>536547</td>\n",
              "      <td>37509</td>\n",
              "      <td>NaN</td>\n",
              "      <td>1</td>\n",
              "      <td>12/1/2010 14:33</td>\n",
              "      <td>0.0</td>\n",
              "      <td>NaN</td>\n",
              "      <td>United Kingdom</td>\n",
              "      <td>NaN</td>\n",
              "    </tr>\n",
              "    <tr>\n",
              "      <th>1987</th>\n",
              "      <td>536549</td>\n",
              "      <td>85226A</td>\n",
              "      <td>NaN</td>\n",
              "      <td>1</td>\n",
              "      <td>12/1/2010 14:34</td>\n",
              "      <td>0.0</td>\n",
              "      <td>NaN</td>\n",
              "      <td>United Kingdom</td>\n",
              "      <td>NaN</td>\n",
              "    </tr>\n",
              "  </tbody>\n",
              "</table>\n",
              "</div>"
            ],
            "text/plain": [
              "     InvoiceNo StockCode Description  Quantity      InvoiceDate  UnitPrice  \\\n",
              "622     536414     22139         NaN        56  12/1/2010 11:52        0.0   \n",
              "1970    536545     21134         NaN         1  12/1/2010 14:32        0.0   \n",
              "1971    536546     22145         NaN         1  12/1/2010 14:33        0.0   \n",
              "1972    536547     37509         NaN         1  12/1/2010 14:33        0.0   \n",
              "1987    536549    85226A         NaN         1  12/1/2010 14:34        0.0   \n",
              "\n",
              "     CustomerID         Country lowercase_descriptions  \n",
              "622         NaN  United Kingdom                    NaN  \n",
              "1970        NaN  United Kingdom                    NaN  \n",
              "1971        NaN  United Kingdom                    NaN  \n",
              "1972        NaN  United Kingdom                    NaN  \n",
              "1987        NaN  United Kingdom                    NaN  "
            ]
          },
          "metadata": {
            "tags": []
          },
          "execution_count": 18
        }
      ]
    },
    {
      "metadata": {
        "id": "IXrdXzeiYmzx",
        "colab_type": "code",
        "colab": {
          "base_uri": "https://localhost:8080/",
          "height": 52
        },
        "outputId": "d356be12-c62b-478b-bef2-685339b84da2"
      },
      "cell_type": "code",
      "source": [
        "data[data.Description.isnull()].CustomerID.isnull().value_counts()\n",
        "data[data.Description.isnull()].UnitPrice.value_counts()\n",
        "data[data.CustomerID.isnull()].head()\n",
        "data.loc[data.CustomerID.isnull(), [\"UnitPrice\", \"Quantity\"]].describe()\n",
        "data.loc[data.Description.isnull()==False, \"lowercase_descriptions\"] = data.loc[data.Description.isnull()==False,\"Description\"].apply(lambda l: l.lower())\n",
        "data.lowercase_descriptions.isnull().value_counts()\n",
        "data.lowercase_descriptions.dropna().apply(lambda l: np.where(\"nan\" in l, True, False)).value_counts()\n",
        "data.lowercase_descriptions.dropna().apply(lambda l: np.where(\"\" == l, True, False)).value_counts()"
      ],
      "execution_count": 19,
      "outputs": [
        {
          "output_type": "execute_result",
          "data": {
            "text/plain": [
              "False    37192\n",
              "Name: lowercase_descriptions, dtype: int64"
            ]
          },
          "metadata": {
            "tags": []
          },
          "execution_count": 19
        }
      ]
    },
    {
      "metadata": {
        "id": "j3FmlhLgZw7s",
        "colab_type": "code",
        "colab": {
          "base_uri": "https://localhost:8080/",
          "height": 70
        },
        "outputId": "fb98d554-1075-4edc-9612-5aad5c5b6c39"
      },
      "cell_type": "code",
      "source": [
        "data.loc[data.lowercase_descriptions.isnull()==False, \"lowercase_descriptions\"] = data.loc[data.lowercase_descriptions.isnull()==False, \"lowercase_descriptions\"].apply(lambda l: np.where(\"nan\" in l, None, l))\n",
        "data.lowercase_descriptions.isnull().value_counts()"
      ],
      "execution_count": 20,
      "outputs": [
        {
          "output_type": "execute_result",
          "data": {
            "text/plain": [
              "False    37159\n",
              "True       150\n",
              "Name: lowercase_descriptions, dtype: int64"
            ]
          },
          "metadata": {
            "tags": []
          },
          "execution_count": 20
        }
      ]
    },
    {
      "metadata": {
        "id": "QS_xj9kUaXuH",
        "colab_type": "code",
        "colab": {}
      },
      "cell_type": "code",
      "source": [
        "data = data.loc[(data.CustomerID.isnull()==False) & (data.lowercase_descriptions.isnull()==False)].copy()"
      ],
      "execution_count": 0,
      "outputs": []
    },
    {
      "metadata": {
        "id": "n2Pv-YDvahny",
        "colab_type": "code",
        "colab": {
          "base_uri": "https://localhost:8080/",
          "height": 35
        },
        "outputId": "ca222b77-983e-4b19-d1fe-3f70e87bd5fa"
      },
      "cell_type": "code",
      "source": [
        "data.isnull().sum().sum()"
      ],
      "execution_count": 22,
      "outputs": [
        {
          "output_type": "execute_result",
          "data": {
            "text/plain": [
              "0"
            ]
          },
          "metadata": {
            "tags": []
          },
          "execution_count": 22
        }
      ]
    },
    {
      "metadata": {
        "id": "ogQm3_Meak5b",
        "colab_type": "code",
        "colab": {
          "base_uri": "https://localhost:8080/",
          "height": 35
        },
        "outputId": "b9bb3cab-3358-4227-8834-117e4a6f0075"
      },
      "cell_type": "code",
      "source": [
        "from datetime import timedelta\n",
        "data[\"InvoiceDate\"] = pd.to_datetime(data.InvoiceDate)\n",
        "\n",
        "data.InvoiceDate.max() - data.InvoiceDate.min()"
      ],
      "execution_count": 27,
      "outputs": [
        {
          "output_type": "execute_result",
          "data": {
            "text/plain": [
              "Timedelta('16 days 08:57:00')"
            ]
          },
          "metadata": {
            "tags": []
          },
          "execution_count": 27
        }
      ]
    },
    {
      "metadata": {
        "id": "89AtSFRoatEX",
        "colab_type": "code",
        "colab": {
          "base_uri": "https://localhost:8080/",
          "height": 1137
        },
        "outputId": "90180c87-3186-41f4-c874-1693d3be467b"
      },
      "cell_type": "code",
      "source": [
        "print(\"Datafile starts with timepoint {}\".format(data.InvoiceDate.min()))\n",
        "print(\"Datafile ends with timepoint {}\".format(data.InvoiceDate.max))"
      ],
      "execution_count": 28,
      "outputs": [
        {
          "output_type": "stream",
          "text": [
            "Datafile starts with timepoint 2010-12-01 08:26:00\n",
            "Datafile ends with timepoint <bound method Series.max of 0       2010-12-01 08:26:00\n",
            "1       2010-12-01 08:26:00\n",
            "2       2010-12-01 08:26:00\n",
            "3       2010-12-01 08:26:00\n",
            "4       2010-12-01 08:26:00\n",
            "5       2010-12-01 08:26:00\n",
            "6       2010-12-01 08:26:00\n",
            "7       2010-12-01 08:28:00\n",
            "8       2010-12-01 08:28:00\n",
            "9       2010-12-01 08:34:00\n",
            "10      2010-12-01 08:34:00\n",
            "11      2010-12-01 08:34:00\n",
            "12      2010-12-01 08:34:00\n",
            "13      2010-12-01 08:34:00\n",
            "14      2010-12-01 08:34:00\n",
            "15      2010-12-01 08:34:00\n",
            "16      2010-12-01 08:34:00\n",
            "17      2010-12-01 08:34:00\n",
            "18      2010-12-01 08:34:00\n",
            "19      2010-12-01 08:34:00\n",
            "20      2010-12-01 08:34:00\n",
            "21      2010-12-01 08:34:00\n",
            "22      2010-12-01 08:34:00\n",
            "23      2010-12-01 08:34:00\n",
            "24      2010-12-01 08:34:00\n",
            "25      2010-12-01 08:35:00\n",
            "26      2010-12-01 08:45:00\n",
            "27      2010-12-01 08:45:00\n",
            "28      2010-12-01 08:45:00\n",
            "29      2010-12-01 08:45:00\n",
            "                ...        \n",
            "37278   2010-12-17 17:17:00\n",
            "37279   2010-12-17 17:17:00\n",
            "37280   2010-12-17 17:23:00\n",
            "37281   2010-12-17 17:23:00\n",
            "37282   2010-12-17 17:23:00\n",
            "37283   2010-12-17 17:23:00\n",
            "37284   2010-12-17 17:23:00\n",
            "37285   2010-12-17 17:23:00\n",
            "37286   2010-12-17 17:23:00\n",
            "37287   2010-12-17 17:23:00\n",
            "37288   2010-12-17 17:23:00\n",
            "37289   2010-12-17 17:23:00\n",
            "37290   2010-12-17 17:23:00\n",
            "37291   2010-12-17 17:23:00\n",
            "37292   2010-12-17 17:23:00\n",
            "37293   2010-12-17 17:23:00\n",
            "37294   2010-12-17 17:23:00\n",
            "37295   2010-12-17 17:23:00\n",
            "37296   2010-12-17 17:23:00\n",
            "37297   2010-12-17 17:23:00\n",
            "37298   2010-12-17 17:23:00\n",
            "37299   2010-12-17 17:23:00\n",
            "37300   2010-12-17 17:23:00\n",
            "37301   2010-12-17 17:23:00\n",
            "37302   2010-12-17 17:23:00\n",
            "37303   2010-12-17 17:23:00\n",
            "37304   2010-12-17 17:23:00\n",
            "37305   2010-12-17 17:23:00\n",
            "37306   2010-12-17 17:23:00\n",
            "37307   2010-12-17 17:23:00\n",
            "Name: InvoiceDate, Length: 24411, dtype: datetime64[ns]>\n"
          ],
          "name": "stdout"
        }
      ]
    },
    {
      "metadata": {
        "id": "vu3CIsQfbhIl",
        "colab_type": "code",
        "colab": {
          "base_uri": "https://localhost:8080/",
          "height": 35
        },
        "outputId": "c34e7001-8f2c-427d-f26a-45f83659d2ed"
      },
      "cell_type": "code",
      "source": [
        "data.InvoiceNo.nunique()"
      ],
      "execution_count": 29,
      "outputs": [
        {
          "output_type": "execute_result",
          "data": {
            "text/plain": [
              "1527"
            ]
          },
          "metadata": {
            "tags": []
          },
          "execution_count": 29
        }
      ]
    },
    {
      "metadata": {
        "id": "nAIgPzySbkqL",
        "colab_type": "code",
        "colab": {
          "base_uri": "https://localhost:8080/",
          "height": 70
        },
        "outputId": "6c7a8c71-4187-4b0b-c4e6-f5e704e114aa"
      },
      "cell_type": "code",
      "source": [
        "data[\"IsCancelled\"]=np.where(data.InvoiceNo.apply(lambda l: l[0]==\"C\"), True, False)\n",
        "data.IsCancelled.value_counts() / data.shape[0] * 100"
      ],
      "execution_count": 30,
      "outputs": [
        {
          "output_type": "execute_result",
          "data": {
            "text/plain": [
              "False    97.710049\n",
              "True      2.289951\n",
              "Name: IsCancelled, dtype: float64"
            ]
          },
          "metadata": {
            "tags": []
          },
          "execution_count": 30
        }
      ]
    },
    {
      "metadata": {
        "id": "c8zwxhHCbqwl",
        "colab_type": "code",
        "colab": {
          "base_uri": "https://localhost:8080/",
          "height": 35
        },
        "outputId": "937a7b2e-8d51-404e-b505-d485902f3456"
      },
      "cell_type": "code",
      "source": [
        "data.loc[data.IsCancelled==True].describe()\n",
        "data = data.loc[data.IsCancelled==False].copy()\n",
        "data = data.drop(\"IsCancelled\", axis=1)\n",
        "num_transactions = data.InvoiceNo.nunique()\n",
        "num_transactions\n",
        "data.StockCode.nunique()"
      ],
      "execution_count": 31,
      "outputs": [
        {
          "output_type": "execute_result",
          "data": {
            "text/plain": [
              "2348"
            ]
          },
          "metadata": {
            "tags": []
          },
          "execution_count": 31
        }
      ]
    },
    {
      "metadata": {
        "id": "MqeDORAdgwUr",
        "colab_type": "code",
        "colab": {}
      },
      "cell_type": "code",
      "source": [
        "def count_numeric_chars(l):\n",
        "    return sum(1 for c in l if c.isdigit())"
      ],
      "execution_count": 0,
      "outputs": []
    },
    {
      "metadata": {
        "id": "FgIkDgIghIbN",
        "colab_type": "code",
        "colab": {
          "base_uri": "https://localhost:8080/",
          "height": 88
        },
        "outputId": "cce00541-6c37-4cb0-be83-451bbd85f207"
      },
      "cell_type": "code",
      "source": [
        "data[\"StockCodeLength\"] = data.StockCode.apply(lambda l: len(l))\n",
        "data[\"nNumericStockCode\"] = data.StockCode.apply(lambda l: count_numeric_chars(l))\n",
        "data.nNumericStockCode.value_counts()"
      ],
      "execution_count": 33,
      "outputs": [
        {
          "output_type": "execute_result",
          "data": {
            "text/plain": [
              "5    23766\n",
              "0       80\n",
              "1        6\n",
              "Name: nNumericStockCode, dtype: int64"
            ]
          },
          "metadata": {
            "tags": []
          },
          "execution_count": 33
        }
      ]
    },
    {
      "metadata": {
        "id": "PhNIZZgUhSLW",
        "colab_type": "code",
        "colab": {
          "base_uri": "https://localhost:8080/",
          "height": 414
        },
        "outputId": "d71b9958-2217-46d5-e55d-74746eefdb7f"
      },
      "cell_type": "code",
      "source": [
        "import seaborn as sns\n",
        "import matplotlib.pyplot as plt\n",
        "from scipy import stats\n",
        "sns.countplot(data.StockCodeLength)\n"
      ],
      "execution_count": 35,
      "outputs": [
        {
          "output_type": "stream",
          "text": [
            "/usr/local/lib/python3.6/dist-packages/seaborn/categorical.py:1428: FutureWarning: remove_na is deprecated and is a private function. Do not use.\n",
            "  stat_data = remove_na(group_data)\n"
          ],
          "name": "stderr"
        },
        {
          "output_type": "execute_result",
          "data": {
            "text/plain": [
              "<matplotlib.axes._subplots.AxesSubplot at 0x7fc38e0397b8>"
            ]
          },
          "metadata": {
            "tags": []
          },
          "execution_count": 35
        },
        {
          "output_type": "display_data",
          "data": {
            "image/png": "[encoded data removed]",
            "text/plain": [
              "<Figure size 576x396 with 1 Axes>"
            ]
          },
          "metadata": {
            "tags": []
          }
        }
      ]
    },
    {
      "metadata": {
        "id": "YslumJVEhXwE",
        "colab_type": "code",
        "colab": {
          "base_uri": "https://localhost:8080/",
          "height": 106
        },
        "outputId": "e9a5d0fb-46d2-4dea-c9d8-c2642923124c"
      },
      "cell_type": "code",
      "source": [
        "data.loc[data.nNumericStockCode < 5].lowercase_descriptions.value_counts()"
      ],
      "execution_count": 36,
      "outputs": [
        {
          "output_type": "execute_result",
          "data": {
            "text/plain": [
              "postage         53\n",
              "manual          26\n",
              "carriage         6\n",
              "bank charges     1\n",
              "Name: lowercase_descriptions, dtype: int64"
            ]
          },
          "metadata": {
            "tags": []
          },
          "execution_count": 36
        }
      ]
    },
    {
      "metadata": {
        "id": "aeVvqXZIifyT",
        "colab_type": "code",
        "colab": {}
      },
      "cell_type": "code",
      "source": [
        "data = data.loc[(data.nNumericStockCode == 5) & (data.StockCodeLength==5)].copy()\n",
        "data.StockCode.nunique()\n",
        "data = data.drop(\"nNumericStockCode\", axis=1)"
      ],
      "execution_count": 0,
      "outputs": []
    },
    {
      "metadata": {
        "id": "WtIzo9eoiqkX",
        "colab_type": "code",
        "colab": {
          "base_uri": "https://localhost:8080/",
          "height": 35
        },
        "outputId": "26a45eda-5850-406f-91f9-8342435251b5"
      },
      "cell_type": "code",
      "source": [
        "data.Description.nunique()"
      ],
      "execution_count": 39,
      "outputs": [
        {
          "output_type": "execute_result",
          "data": {
            "text/plain": [
              "1853"
            ]
          },
          "metadata": {
            "tags": []
          },
          "execution_count": 39
        }
      ]
    },
    {
      "metadata": {
        "id": "UY6_YIosi2YN",
        "colab_type": "code",
        "colab": {}
      },
      "cell_type": "code",
      "source": [
        "def count_lower_chars(l):\n",
        "    return sum(1 for c in l if c.islower())\n",
        "  \n",
        "data[\"DescriptionLength\"] = data.Description.apply(lambda l: len(l))\n",
        "data[\"LowCharsInDescription\"] = data.Description.apply(lambda l: count_lower_chars(l))"
      ],
      "execution_count": 0,
      "outputs": []
    },
    {
      "metadata": {
        "id": "VKZvqm28jHq8",
        "colab_type": "code",
        "colab": {
          "base_uri": "https://localhost:8080/",
          "height": 541
        },
        "outputId": "4fc200d6-0abc-4430-95ee-dd42ea2f180d"
      },
      "cell_type": "code",
      "source": [
        "lowchar_counts = data.loc[data.LowCharsInDescription > 0].Description.value_counts()\n",
        "\n",
        "plt.figure(figsize=(20,5))\n",
        "sns.barplot(lowchar_counts.index, lowchar_counts.values)\n",
        "plt.xticks(rotation=90);"
      ],
      "execution_count": 42,
      "outputs": [
        {
          "output_type": "stream",
          "text": [
            "/usr/local/lib/python3.6/dist-packages/seaborn/categorical.py:1428: FutureWarning: remove_na is deprecated and is a private function. Do not use.\n",
            "  stat_data = remove_na(group_data)\n"
          ],
          "name": "stderr"
        },
        {
          "output_type": "display_data",
          "data": {
            "image/png": "[encoded data removed]",
            "text/plain": [
              "<Figure size 1440x360 with 1 Axes>"
            ]
          },
          "metadata": {
            "tags": []
          }
        }
      ]
    },
    {
      "metadata": {
        "id": "vjLArx5VjXdA",
        "colab_type": "code",
        "colab": {
          "base_uri": "https://localhost:8080/",
          "height": 177
        },
        "outputId": "d9873618-50a0-46a3-cb18-57a63bf647a6"
      },
      "cell_type": "code",
      "source": [
        "def count_upper_chars(l):\n",
        "    return sum(1 for c in l if c.isupper())\n",
        "data[\"UpCharsInDescription\"] = data.Description.apply(lambda l: count_upper_chars(l))\n",
        "data.UpCharsInDescription.describe()"
      ],
      "execution_count": 43,
      "outputs": [
        {
          "output_type": "execute_result",
          "data": {
            "text/plain": [
              "count    21105.000000\n",
              "mean        22.704146\n",
              "std          4.387270\n",
              "min          8.000000\n",
              "25%         20.000000\n",
              "50%         23.000000\n",
              "75%         26.000000\n",
              "max         32.000000\n",
              "Name: UpCharsInDescription, dtype: float64"
            ]
          },
          "metadata": {
            "tags": []
          },
          "execution_count": 43
        }
      ]
    },
    {
      "metadata": {
        "id": "Pg5X08RMjmO6",
        "colab_type": "code",
        "colab": {
          "base_uri": "https://localhost:8080/",
          "height": 429
        },
        "outputId": "84720ecf-b85e-4cad-c4fe-53d5bcfe1916"
      },
      "cell_type": "code",
      "source": [
        "data.loc[data.UpCharsInDescription <=5].Description.value_counts()\n",
        "data = data.loc[data.UpCharsInDescription > 5].copy()\n",
        "dlength_counts = data.loc[data.DescriptionLength < 14].Description.value_counts()\n",
        "\n",
        "plt.figure(figsize=(20,5))\n",
        "sns.barplot(dlength_counts.index, dlength_counts.values)\n",
        "plt.xticks(rotation=90);"
      ],
      "execution_count": 44,
      "outputs": [
        {
          "output_type": "stream",
          "text": [
            "/usr/local/lib/python3.6/dist-packages/seaborn/categorical.py:1428: FutureWarning: remove_na is deprecated and is a private function. Do not use.\n",
            "  stat_data = remove_na(group_data)\n"
          ],
          "name": "stderr"
        },
        {
          "output_type": "display_data",
          "data": {
            "image/png": "[encoded data removed]",
            "text/plain": [
              "<Figure size 1440x360 with 1 Axes>"
            ]
          },
          "metadata": {
            "tags": []
          }
        }
      ]
    },
    {
      "metadata": {
        "id": "Nai_VRu3j2HB",
        "colab_type": "code",
        "colab": {
          "base_uri": "https://localhost:8080/",
          "height": 35
        },
        "outputId": "50f4cd54-2a36-4ef9-ba23-74730258c12d"
      },
      "cell_type": "code",
      "source": [
        "data.StockCode.nunique()"
      ],
      "execution_count": 45,
      "outputs": [
        {
          "output_type": "execute_result",
          "data": {
            "text/plain": [
              "1844"
            ]
          },
          "metadata": {
            "tags": []
          },
          "execution_count": 45
        }
      ]
    },
    {
      "metadata": {
        "id": "PkEEsYh-j6me",
        "colab_type": "code",
        "colab": {
          "base_uri": "https://localhost:8080/",
          "height": 35
        },
        "outputId": "f87e1a87-118b-4aca-8dc7-49b032a6da43"
      },
      "cell_type": "code",
      "source": [
        "data.Description.nunique()"
      ],
      "execution_count": 46,
      "outputs": [
        {
          "output_type": "execute_result",
          "data": {
            "text/plain": [
              "1853"
            ]
          },
          "metadata": {
            "tags": []
          },
          "execution_count": 46
        }
      ]
    },
    {
      "metadata": {
        "id": "bqBJ4vNPj88v",
        "colab_type": "code",
        "colab": {
          "base_uri": "https://localhost:8080/",
          "height": 35
        },
        "outputId": "fc118c88-f0b6-41f8-9125-51172be6f0fe"
      },
      "cell_type": "code",
      "source": [
        "data.groupby(\"StockCode\").Description.nunique().sort_values(ascending=False).iloc[0:10]\n",
        "data.loc[data.StockCode == \"23244\"].Description.value_counts()\n",
        "data.StockCode = data.StockCode.astype(np.int)\n",
        "data.groupby(\"StockCode\").Description.max().head(10)\n",
        "data.CustomerID.nunique()\n",
        "data.Country.nunique()"
      ],
      "execution_count": 47,
      "outputs": [
        {
          "output_type": "execute_result",
          "data": {
            "text/plain": [
              "22"
            ]
          },
          "metadata": {
            "tags": []
          },
          "execution_count": 47
        }
      ]
    },
    {
      "metadata": {
        "id": "xlG3umGckjjU",
        "colab_type": "code",
        "colab": {
          "base_uri": "https://localhost:8080/",
          "height": 431
        },
        "outputId": "350223e8-eaa0-408a-d9bc-54a5dc67e536"
      },
      "cell_type": "code",
      "source": [
        "country_counts = data.Country.value_counts().sort_values(ascending=False).iloc[0:20]\n",
        "plt.figure(figsize=(20,5))\n",
        "sns.barplot(country_counts.index, country_counts.values)\n",
        "plt.ylabel(\"Counts\")\n",
        "plt.title(\"Which countries made the most transactions?\");\n",
        "plt.xticks(rotation=90);"
      ],
      "execution_count": 48,
      "outputs": [
        {
          "output_type": "stream",
          "text": [
            "/usr/local/lib/python3.6/dist-packages/seaborn/categorical.py:1428: FutureWarning: remove_na is deprecated and is a private function. Do not use.\n",
            "  stat_data = remove_na(group_data)\n"
          ],
          "name": "stderr"
        },
        {
          "output_type": "display_data",
          "data": {
            "image/png": "[encoded data removed]",
            "text/plain": [
              "<Figure size 1440x360 with 1 Axes>"
            ]
          },
          "metadata": {
            "tags": []
          }
        }
      ]
    },
    {
      "metadata": {
        "id": "3-3WiwZQkn9K",
        "colab_type": "code",
        "colab": {
          "base_uri": "https://localhost:8080/",
          "height": 35
        },
        "outputId": "c0908530-eae9-4427-dec4-d533451f1687"
      },
      "cell_type": "code",
      "source": [
        "data.loc[data.Country==\"United Kingdom\"].shape[0] / data.shape[0] * 100"
      ],
      "execution_count": 49,
      "outputs": [
        {
          "output_type": "execute_result",
          "data": {
            "text/plain": [
              "92.40938166311301"
            ]
          },
          "metadata": {
            "tags": []
          },
          "execution_count": 49
        }
      ]
    },
    {
      "metadata": {
        "id": "ofG7mnCEkt0s",
        "colab_type": "code",
        "colab": {
          "base_uri": "https://localhost:8080/",
          "height": 227
        },
        "outputId": "909a7827-57d1-460b-b7e1-b29338458c0f"
      },
      "cell_type": "code",
      "source": [
        "data[\"UK\"] = np.where(data.Country == \"United Kingdom\", 1, 0)\n",
        "data.UnitPrice.describe()\n",
        "data.loc[data.UnitPrice == 0].sort_values(by=\"Quantity\", ascending=False).head()"
      ],
      "execution_count": 50,
      "outputs": [
        {
          "output_type": "execute_result",
          "data": {
            "text/html": [
              "<div>\n",
              "<style scoped>\n",
              "    .dataframe tbody tr th:only-of-type {\n",
              "        vertical-align: middle;\n",
              "    }\n",
              "\n",
              "    .dataframe tbody tr th {\n",
              "        vertical-align: top;\n",
              "    }\n",
              "\n",
              "    .dataframe thead th {\n",
              "        text-align: right;\n",
              "    }\n",
              "</style>\n",
              "<table border=\"1\" class=\"dataframe\">\n",
              "  <thead>\n",
              "    <tr style=\"text-align: right;\">\n",
              "      <th></th>\n",
              "      <th>InvoiceNo</th>\n",
              "      <th>StockCode</th>\n",
              "      <th>Description</th>\n",
              "      <th>Quantity</th>\n",
              "      <th>InvoiceDate</th>\n",
              "      <th>UnitPrice</th>\n",
              "      <th>CustomerID</th>\n",
              "      <th>Country</th>\n",
              "      <th>lowercase_descriptions</th>\n",
              "      <th>StockCodeLength</th>\n",
              "      <th>DescriptionLength</th>\n",
              "      <th>LowCharsInDescription</th>\n",
              "      <th>UpCharsInDescription</th>\n",
              "      <th>UK</th>\n",
              "    </tr>\n",
              "  </thead>\n",
              "  <tbody>\n",
              "    <tr>\n",
              "      <th>33576</th>\n",
              "      <td>539263</td>\n",
              "      <td>22580</td>\n",
              "      <td>ADVENT CALENDAR GINGHAM SACK</td>\n",
              "      <td>4</td>\n",
              "      <td>2010-12-16 14:36:00</td>\n",
              "      <td>0.0</td>\n",
              "      <td>16560</td>\n",
              "      <td>United Kingdom</td>\n",
              "      <td>advent calendar gingham sack</td>\n",
              "      <td>5</td>\n",
              "      <td>28</td>\n",
              "      <td>0</td>\n",
              "      <td>25</td>\n",
              "      <td>1</td>\n",
              "    </tr>\n",
              "    <tr>\n",
              "      <th>9302</th>\n",
              "      <td>537197</td>\n",
              "      <td>22841</td>\n",
              "      <td>ROUND CAKE TIN VINTAGE GREEN</td>\n",
              "      <td>1</td>\n",
              "      <td>2010-12-05 14:02:00</td>\n",
              "      <td>0.0</td>\n",
              "      <td>12647</td>\n",
              "      <td>Germany</td>\n",
              "      <td>round cake tin vintage green</td>\n",
              "      <td>5</td>\n",
              "      <td>28</td>\n",
              "      <td>0</td>\n",
              "      <td>24</td>\n",
              "      <td>0</td>\n",
              "    </tr>\n",
              "  </tbody>\n",
              "</table>\n",
              "</div>"
            ],
            "text/plain": [
              "      InvoiceNo  StockCode                   Description  Quantity  \\\n",
              "33576    539263      22580  ADVENT CALENDAR GINGHAM SACK         4   \n",
              "9302     537197      22841  ROUND CAKE TIN VINTAGE GREEN         1   \n",
              "\n",
              "              InvoiceDate  UnitPrice CustomerID         Country  \\\n",
              "33576 2010-12-16 14:36:00        0.0      16560  United Kingdom   \n",
              "9302  2010-12-05 14:02:00        0.0      12647         Germany   \n",
              "\n",
              "             lowercase_descriptions  StockCodeLength  DescriptionLength  \\\n",
              "33576  advent calendar gingham sack                5                 28   \n",
              "9302   round cake tin vintage green                5                 28   \n",
              "\n",
              "       LowCharsInDescription  UpCharsInDescription  UK  \n",
              "33576                      0                    25   1  \n",
              "9302                       0                    24   0  "
            ]
          },
          "metadata": {
            "tags": []
          },
          "execution_count": 50
        }
      ]
    },
    {
      "metadata": {
        "id": "OrdA8A18lAG0",
        "colab_type": "code",
        "colab": {
          "base_uri": "https://localhost:8080/",
          "height": 405
        },
        "outputId": "034823bf-3dc0-4913-9128-7fd48facf7ad"
      },
      "cell_type": "code",
      "source": [
        "data = data.loc[data.UnitPrice > 0].copy()\n",
        "fig, ax = plt.subplots(1,2,figsize=(20,5))\n",
        "sns.distplot(data.UnitPrice, ax=ax[0], kde=False)\n",
        "sns.distplot(np.log(data.UnitPrice), ax=ax[1], bins=20)"
      ],
      "execution_count": 51,
      "outputs": [
        {
          "output_type": "stream",
          "text": [
            "/usr/local/lib/python3.6/dist-packages/matplotlib/axes/_axes.py:6521: MatplotlibDeprecationWarning: \n",
            "The 'normed' kwarg was deprecated in Matplotlib 2.1 and will be removed in 3.1. Use 'density' instead.\n",
            "  alternative=\"'density'\", removal=\"3.1\")\n"
          ],
          "name": "stderr"
        },
        {
          "output_type": "execute_result",
          "data": {
            "text/plain": [
              "<matplotlib.axes._subplots.AxesSubplot at 0x7fc38c600978>"
            ]
          },
          "metadata": {
            "tags": []
          },
          "execution_count": 51
        },
        {
          "output_type": "display_data",
          "data": {
            "image/png": "[encoded data removed]",
            "text/plain": [
              "<Figure size 1440x360 with 2 Axes>"
            ]
          },
          "metadata": {
            "tags": []
          }
        }
      ]
    },
    {
      "metadata": {
        "id": "a2-wUgOflDUW",
        "colab_type": "code",
        "colab": {}
      },
      "cell_type": "code",
      "source": [
        "data = data.loc[(data.UnitPrice > 0.1) & (data.UnitPrice < 20)].copy()\n",
        "data[\"Revenue\"] = data.Quantity * data.UnitPrice\n",
        "\n",
        "data[\"Year\"] = data.InvoiceDate.dt.year\n",
        "data[\"Quarter\"] = data.InvoiceDate.dt.quarter\n",
        "data[\"Month\"] = data.InvoiceDate.dt.month\n",
        "data[\"Week\"] = data.InvoiceDate.dt.week\n",
        "data[\"Weekday\"] = data.InvoiceDate.dt.weekday\n",
        "data[\"Day\"] = data.InvoiceDate.dt.day\n",
        "data[\"Dayofyear\"] = data.InvoiceDate.dt.dayofyear\n",
        "data[\"Date\"] = pd.to_datetime(data[['Year', 'Month', 'Day']])\n",
        "grouped_features = [\"Date\", \"Year\", \"Quarter\",\"Month\", \"Week\", \"Weekday\", \"Dayofyear\", \"Day\",\n",
        "                    \"StockCode\"]"
      ],
      "execution_count": 0,
      "outputs": []
    },
    {
      "metadata": {
        "id": "LDD3Ut5NliRt",
        "colab_type": "code",
        "colab": {
          "base_uri": "https://localhost:8080/",
          "height": 282
        },
        "outputId": "1691d2f2-846d-4e7d-e4c5-92010f33c963"
      },
      "cell_type": "code",
      "source": [
        "daily_data = data\n",
        "daily_data.loc[:, [\"Quantity\", \"Revenue\"]].describe()"
      ],
      "execution_count": 55,
      "outputs": [
        {
          "output_type": "execute_result",
          "data": {
            "text/html": [
              "<div>\n",
              "<style scoped>\n",
              "    .dataframe tbody tr th:only-of-type {\n",
              "        vertical-align: middle;\n",
              "    }\n",
              "\n",
              "    .dataframe tbody tr th {\n",
              "        vertical-align: top;\n",
              "    }\n",
              "\n",
              "    .dataframe thead th {\n",
              "        text-align: right;\n",
              "    }\n",
              "</style>\n",
              "<table border=\"1\" class=\"dataframe\">\n",
              "  <thead>\n",
              "    <tr style=\"text-align: right;\">\n",
              "      <th></th>\n",
              "      <th>Quantity</th>\n",
              "      <th>Revenue</th>\n",
              "    </tr>\n",
              "  </thead>\n",
              "  <tbody>\n",
              "    <tr>\n",
              "      <th>count</th>\n",
              "      <td>21048.000000</td>\n",
              "      <td>21048.000000</td>\n",
              "    </tr>\n",
              "    <tr>\n",
              "      <th>mean</th>\n",
              "      <td>11.822263</td>\n",
              "      <td>21.354029</td>\n",
              "    </tr>\n",
              "    <tr>\n",
              "      <th>std</th>\n",
              "      <td>46.574114</td>\n",
              "      <td>79.910397</td>\n",
              "    </tr>\n",
              "    <tr>\n",
              "      <th>min</th>\n",
              "      <td>1.000000</td>\n",
              "      <td>0.140000</td>\n",
              "    </tr>\n",
              "    <tr>\n",
              "      <th>25%</th>\n",
              "      <td>2.000000</td>\n",
              "      <td>3.900000</td>\n",
              "    </tr>\n",
              "    <tr>\n",
              "      <th>50%</th>\n",
              "      <td>4.000000</td>\n",
              "      <td>10.200000</td>\n",
              "    </tr>\n",
              "    <tr>\n",
              "      <th>75%</th>\n",
              "      <td>12.000000</td>\n",
              "      <td>19.500000</td>\n",
              "    </tr>\n",
              "    <tr>\n",
              "      <th>max</th>\n",
              "      <td>2880.000000</td>\n",
              "      <td>3828.000000</td>\n",
              "    </tr>\n",
              "  </tbody>\n",
              "</table>\n",
              "</div>"
            ],
            "text/plain": [
              "           Quantity       Revenue\n",
              "count  21048.000000  21048.000000\n",
              "mean      11.822263     21.354029\n",
              "std       46.574114     79.910397\n",
              "min        1.000000      0.140000\n",
              "25%        2.000000      3.900000\n",
              "50%        4.000000     10.200000\n",
              "75%       12.000000     19.500000\n",
              "max     2880.000000   3828.000000"
            ]
          },
          "metadata": {
            "tags": []
          },
          "execution_count": 55
        }
      ]
    },
    {
      "metadata": {
        "id": "JggGfH2ZmurI",
        "colab_type": "code",
        "colab": {
          "base_uri": "https://localhost:8080/",
          "height": 52
        },
        "outputId": "194fbbf0-a147-4275-bbc3-43bca67ff1c8"
      },
      "cell_type": "code",
      "source": [
        "low_quantity = daily_data.Quantity.quantile(0.05)\n",
        "high_quantity = daily_data.Quantity.quantile(0.90)\n",
        "print((low_quantity, high_quantity))\n",
        "low_revenue = daily_data.Revenue.quantile(0.05)\n",
        "high_revenue = daily_data.Revenue.quantile(0.95)\n",
        "print((low_revenue, high_revenue))"
      ],
      "execution_count": 56,
      "outputs": [
        {
          "output_type": "stream",
          "text": [
            "(1.0, 24.0)\n",
            "(1.25, 66.6)\n"
          ],
          "name": "stdout"
        }
      ]
    },
    {
      "metadata": {
        "id": "Bt8bu2HsoKEk",
        "colab_type": "code",
        "colab": {
          "base_uri": "https://localhost:8080/",
          "height": 35
        },
        "outputId": "db03917c-b92c-47f4-8383-998b426bdc5a"
      },
      "cell_type": "code",
      "source": [
        "samples = daily_data.shape[0]\n",
        "daily_data = daily_data.loc[\n",
        "    (daily_data.Quantity >= low_quantity) & (daily_data.Quantity <= high_quantity)]\n",
        "daily_data = daily_data.loc[\n",
        "    (daily_data.Revenue >= low_revenue) & (daily_data.Revenue <= high_revenue)]\n",
        "samples - daily_data.shape[0]"
      ],
      "execution_count": 57,
      "outputs": [
        {
          "output_type": "execute_result",
          "data": {
            "text/plain": [
              "2605"
            ]
          },
          "metadata": {
            "tags": []
          },
          "execution_count": 57
        }
      ]
    },
    {
      "metadata": {
        "id": "QUwlI2oooY-d",
        "colab_type": "code",
        "colab": {
          "base_uri": "https://localhost:8080/",
          "height": 52
        },
        "outputId": "63024883-0bb9-4656-8189-9ad665f568c3"
      },
      "cell_type": "code",
      "source": [
        "week = daily_data.Week.max() - 2\n",
        "print(\"Validation after week {}\".format(week))\n",
        "print(\"Validation starts at timepoint {}\".format(\n",
        "    daily_data[daily_data.Week==week].Date.min()\n",
        "))"
      ],
      "execution_count": 58,
      "outputs": [
        {
          "output_type": "stream",
          "text": [
            "Validation after week 48\n",
            "Validation starts at timepoint 2010-12-01 00:00:00\n"
          ],
          "name": "stdout"
        }
      ]
    },
    {
      "metadata": {
        "id": "1a0rZyfAomA4",
        "colab_type": "code",
        "colab": {
          "base_uri": "https://localhost:8080/",
          "height": 364
        },
        "outputId": "1440b52f-41cf-40ab-b7ed-3443cf5840c3"
      },
      "cell_type": "code",
      "source": [
        ""
      ],
      "execution_count": 69,
      "outputs": [
        {
          "output_type": "error",
          "ename": "ValueError",
          "evalue": "ignored",
          "traceback": [
            "\u001b[0;31m---------------------------------------------------------------------------\u001b[0m",
            "\u001b[0;31mValueError\u001b[0m                                Traceback (most recent call last)",
            "\u001b[0;32m<ipython-input-69-4d8079d977ca>\u001b[0m in \u001b[0;36m<module>\u001b[0;34m()\u001b[0m\n\u001b[1;32m      2\u001b[0m \u001b[0;32mimport\u001b[0m \u001b[0mcatboost\u001b[0m\u001b[0;34m\u001b[0m\u001b[0;34m\u001b[0m\u001b[0m\n\u001b[1;32m      3\u001b[0m \u001b[0mX\u001b[0m \u001b[0;34m=\u001b[0m \u001b[0mdaily_data\u001b[0m\u001b[0;34m.\u001b[0m\u001b[0mdrop\u001b[0m\u001b[0;34m(\u001b[0m\u001b[0;34m[\u001b[0m\u001b[0;34m\"Quantity\"\u001b[0m\u001b[0;34m,\u001b[0m \u001b[0;34m\"Revenue\"\u001b[0m\u001b[0;34m,\u001b[0m \u001b[0;34m\"Date\"\u001b[0m\u001b[0;34m]\u001b[0m\u001b[0;34m,\u001b[0m \u001b[0maxis\u001b[0m\u001b[0;34m=\u001b[0m\u001b[0;36m1\u001b[0m\u001b[0;34m)\u001b[0m\u001b[0;34m\u001b[0m\u001b[0;34m\u001b[0m\u001b[0m\n\u001b[0;32m----> 4\u001b[0;31m \u001b[0mprint\u001b[0m\u001b[0;34m(\u001b[0m\u001b[0mstats\u001b[0m\u001b[0;34m.\u001b[0m\u001b[0mboxcox\u001b[0m\u001b[0;34m(\u001b[0m\u001b[0mdaily_data\u001b[0m\u001b[0;34m.\u001b[0m\u001b[0mQuantity\u001b[0m\u001b[0;34m)\u001b[0m\u001b[0;34m[\u001b[0m\u001b[0;36m0\u001b[0m\u001b[0;34m]\u001b[0m\u001b[0;34m)\u001b[0m\u001b[0;34m\u001b[0m\u001b[0;34m\u001b[0m\u001b[0m\n\u001b[0m\u001b[1;32m      5\u001b[0m \u001b[0mdaily_data\u001b[0m\u001b[0;34m.\u001b[0m\u001b[0mQuantity\u001b[0m \u001b[0;34m=\u001b[0m \u001b[0mabs\u001b[0m\u001b[0;34m(\u001b[0m\u001b[0mstats\u001b[0m\u001b[0;34m.\u001b[0m\u001b[0mboxcox\u001b[0m\u001b[0;34m(\u001b[0m\u001b[0mdaily_data\u001b[0m\u001b[0;34m.\u001b[0m\u001b[0mQuantity\u001b[0m\u001b[0;34m)\u001b[0m\u001b[0;34m[\u001b[0m\u001b[0;36m0\u001b[0m\u001b[0;34m]\u001b[0m\u001b[0;34m)\u001b[0m\u001b[0;34m\u001b[0m\u001b[0;34m\u001b[0m\u001b[0m\n\u001b[1;32m      6\u001b[0m \u001b[0my\u001b[0m \u001b[0;34m=\u001b[0m \u001b[0mdaily_data\u001b[0m\u001b[0;34m.\u001b[0m\u001b[0mQuantity\u001b[0m\u001b[0;34m\u001b[0m\u001b[0;34m\u001b[0m\u001b[0m\n",
            "\u001b[0;32m/usr/local/lib/python3.6/dist-packages/scipy/stats/morestats.py\u001b[0m in \u001b[0;36mboxcox\u001b[0;34m(x, lmbda, alpha)\u001b[0m\n\u001b[1;32m   1028\u001b[0m \u001b[0;34m\u001b[0m\u001b[0m\n\u001b[1;32m   1029\u001b[0m     \u001b[0;32mif\u001b[0m \u001b[0many\u001b[0m\u001b[0;34m(\u001b[0m\u001b[0mx\u001b[0m \u001b[0;34m<=\u001b[0m \u001b[0;36m0\u001b[0m\u001b[0;34m)\u001b[0m\u001b[0;34m:\u001b[0m\u001b[0;34m\u001b[0m\u001b[0;34m\u001b[0m\u001b[0m\n\u001b[0;32m-> 1030\u001b[0;31m         \u001b[0;32mraise\u001b[0m \u001b[0mValueError\u001b[0m\u001b[0;34m(\u001b[0m\u001b[0;34m\"Data must be positive.\"\u001b[0m\u001b[0;34m)\u001b[0m\u001b[0;34m\u001b[0m\u001b[0;34m\u001b[0m\u001b[0m\n\u001b[0m\u001b[1;32m   1031\u001b[0m \u001b[0;34m\u001b[0m\u001b[0m\n\u001b[1;32m   1032\u001b[0m     \u001b[0;32mif\u001b[0m \u001b[0mlmbda\u001b[0m \u001b[0;32mis\u001b[0m \u001b[0;32mnot\u001b[0m \u001b[0;32mNone\u001b[0m\u001b[0;34m:\u001b[0m  \u001b[0;31m# single transformation\u001b[0m\u001b[0;34m\u001b[0m\u001b[0;34m\u001b[0m\u001b[0m\n",
            "\u001b[0;31mValueError\u001b[0m: Data must be positive."
          ]
        }
      ]
    },
    {
      "metadata": {
        "id": "oAMO8_Wror_K",
        "colab_type": "code",
        "colab": {
          "base_uri": "https://localhost:8080/",
          "height": 232
        },
        "outputId": "b71a00c9-f26d-4558-d04a-735bd85a194b"
      },
      "cell_type": "code",
      "source": [
        "!pip install catboost\n"
      ],
      "execution_count": 66,
      "outputs": [
        {
          "output_type": "stream",
          "text": [
            "Collecting catboost\n",
            "\u001b[?25l  Downloading https://files.pythonhosted.org/packages/c5/16/1d143ca8b8fc0389454dac936e876cf4171465e85d50de65489568497543/catboost-0.13-cp36-none-manylinux1_x86_64.whl (60.0MB)\n",
            "\u001b[K    100% |████████████████████████████████| 60.0MB 554kB/s \n",
            "\u001b[?25hRequirement already satisfied: pandas>=0.19.1 in /usr/local/lib/python3.6/dist-packages (from catboost) (0.22.0)\n",
            "Requirement already satisfied: enum34 in /usr/local/lib/python3.6/dist-packages (from catboost) (1.1.6)\n",
            "Requirement already satisfied: numpy>=1.11.1 in /usr/local/lib/python3.6/dist-packages (from catboost) (1.14.6)\n",
            "Requirement already satisfied: six in /usr/local/lib/python3.6/dist-packages (from catboost) (1.11.0)\n",
            "Requirement already satisfied: pytz>=2011k in /usr/local/lib/python3.6/dist-packages (from pandas>=0.19.1->catboost) (2018.9)\n",
            "Requirement already satisfied: python-dateutil>=2 in /usr/local/lib/python3.6/dist-packages (from pandas>=0.19.1->catboost) (2.5.3)\n",
            "Installing collected packages: catboost\n",
            "Successfully installed catboost-0.13\n"
          ],
          "name": "stdout"
        }
      ]
    },
    {
      "metadata": {
        "id": "FEJxEtYyqvqI",
        "colab_type": "code",
        "colab": {
          "base_uri": "https://localhost:8080/",
          "height": 364
        },
        "outputId": "46d7542c-154b-45ce-cc27-760f5e4d4b27"
      },
      "cell_type": "code",
      "source": [
        "from scipy import stats\n",
        "import catboost\n",
        "import math\n",
        "X = daily_data.drop([\"Quantity\", \"Revenue\", \"Date\"], axis=1)\n",
        "print(stats.boxcox(daily_data.Quantity)[0])\n",
        "y = daily_data.Quantity\n",
        "params = CatHyperparameter()\n",
        "\n",
        "model = Catmodel(\"baseline\", params)\n",
        "model.set_data(X,y, week)\n",
        "model.learn(plot=True)"
      ],
      "execution_count": 80,
      "outputs": [
        {
          "output_type": "error",
          "ename": "ValueError",
          "evalue": "ignored",
          "traceback": [
            "\u001b[0;31m---------------------------------------------------------------------------\u001b[0m",
            "\u001b[0;31mValueError\u001b[0m                                Traceback (most recent call last)",
            "\u001b[0;32m<ipython-input-80-860ac9be4981>\u001b[0m in \u001b[0;36m<module>\u001b[0;34m()\u001b[0m\n\u001b[1;32m      3\u001b[0m \u001b[0;32mimport\u001b[0m \u001b[0mmath\u001b[0m\u001b[0;34m\u001b[0m\u001b[0;34m\u001b[0m\u001b[0m\n\u001b[1;32m      4\u001b[0m \u001b[0mX\u001b[0m \u001b[0;34m=\u001b[0m \u001b[0mdaily_data\u001b[0m\u001b[0;34m.\u001b[0m\u001b[0mdrop\u001b[0m\u001b[0;34m(\u001b[0m\u001b[0;34m[\u001b[0m\u001b[0;34m\"Quantity\"\u001b[0m\u001b[0;34m,\u001b[0m \u001b[0;34m\"Revenue\"\u001b[0m\u001b[0;34m,\u001b[0m \u001b[0;34m\"Date\"\u001b[0m\u001b[0;34m]\u001b[0m\u001b[0;34m,\u001b[0m \u001b[0maxis\u001b[0m\u001b[0;34m=\u001b[0m\u001b[0;36m1\u001b[0m\u001b[0;34m)\u001b[0m\u001b[0;34m\u001b[0m\u001b[0;34m\u001b[0m\u001b[0m\n\u001b[0;32m----> 5\u001b[0;31m \u001b[0mprint\u001b[0m\u001b[0;34m(\u001b[0m\u001b[0mstats\u001b[0m\u001b[0;34m.\u001b[0m\u001b[0mboxcox\u001b[0m\u001b[0;34m(\u001b[0m\u001b[0mdaily_data\u001b[0m\u001b[0;34m.\u001b[0m\u001b[0mQuantity\u001b[0m\u001b[0;34m)\u001b[0m\u001b[0;34m[\u001b[0m\u001b[0;36m0\u001b[0m\u001b[0;34m]\u001b[0m\u001b[0;34m)\u001b[0m\u001b[0;34m\u001b[0m\u001b[0;34m\u001b[0m\u001b[0m\n\u001b[0m\u001b[1;32m      6\u001b[0m \u001b[0my\u001b[0m \u001b[0;34m=\u001b[0m \u001b[0mdaily_data\u001b[0m\u001b[0;34m.\u001b[0m\u001b[0mQuantity\u001b[0m\u001b[0;34m\u001b[0m\u001b[0;34m\u001b[0m\u001b[0m\n\u001b[1;32m      7\u001b[0m \u001b[0mparams\u001b[0m \u001b[0;34m=\u001b[0m \u001b[0mCatHyperparameter\u001b[0m\u001b[0;34m(\u001b[0m\u001b[0;34m)\u001b[0m\u001b[0;34m\u001b[0m\u001b[0;34m\u001b[0m\u001b[0m\n",
            "\u001b[0;32m/usr/local/lib/python3.6/dist-packages/scipy/stats/morestats.py\u001b[0m in \u001b[0;36mboxcox\u001b[0;34m(x, lmbda, alpha)\u001b[0m\n\u001b[1;32m   1028\u001b[0m \u001b[0;34m\u001b[0m\u001b[0m\n\u001b[1;32m   1029\u001b[0m     \u001b[0;32mif\u001b[0m \u001b[0many\u001b[0m\u001b[0;34m(\u001b[0m\u001b[0mx\u001b[0m \u001b[0;34m<=\u001b[0m \u001b[0;36m0\u001b[0m\u001b[0;34m)\u001b[0m\u001b[0;34m:\u001b[0m\u001b[0;34m\u001b[0m\u001b[0;34m\u001b[0m\u001b[0m\n\u001b[0;32m-> 1030\u001b[0;31m         \u001b[0;32mraise\u001b[0m \u001b[0mValueError\u001b[0m\u001b[0;34m(\u001b[0m\u001b[0;34m\"Data must be positive.\"\u001b[0m\u001b[0;34m)\u001b[0m\u001b[0;34m\u001b[0m\u001b[0;34m\u001b[0m\u001b[0m\n\u001b[0m\u001b[1;32m   1031\u001b[0m \u001b[0;34m\u001b[0m\u001b[0m\n\u001b[1;32m   1032\u001b[0m     \u001b[0;32mif\u001b[0m \u001b[0mlmbda\u001b[0m \u001b[0;32mis\u001b[0m \u001b[0;32mnot\u001b[0m \u001b[0;32mNone\u001b[0m\u001b[0;34m:\u001b[0m  \u001b[0;31m# single transformation\u001b[0m\u001b[0;34m\u001b[0m\u001b[0;34m\u001b[0m\u001b[0m\n",
            "\u001b[0;31mValueError\u001b[0m: Data must be positive."
          ]
        }
      ]
    },
    {
      "metadata": {
        "id": "fpu6sYMArqQC",
        "colab_type": "code",
        "colab": {
          "base_uri": "https://localhost:8080/",
          "height": 52
        },
        "outputId": "ded1cdc8-d7d7-444c-8340-6f0d0c0ee3d4"
      },
      "cell_type": "code",
      "source": [
        "products = pd.DataFrame(index=data.loc[data.Week < week].StockCode.unique(), columns = [\"MedianPrice\"])\n",
        "\n",
        "products[\"MedianPrice\"] = data.loc[data.Week < week].groupby(\"StockCode\").UnitPrice.median()\n",
        "products[\"MedianQuantities\"] = data.loc[data.Week < week].groupby(\"StockCode\").Quantity.median()\n",
        "products[\"Customers\"] = data.loc[data.Week < week].groupby(\"StockCode\").CustomerID.nunique()\n",
        "products[\"DescriptionLength\"] = data.loc[data.Week < week].groupby(\"StockCode\").DescriptionLength.median()\n",
        "products[\"StockCode\"] = products.index.values\n",
        "\n",
        "products.head()\n",
        "\n",
        "org_cols = np.copy(products.columns.values)\n",
        "org_cols"
      ],
      "execution_count": 81,
      "outputs": [
        {
          "output_type": "execute_result",
          "data": {
            "text/plain": [
              "array(['MedianPrice', 'MedianQuantities', 'Customers',\n",
              "       'DescriptionLength', 'StockCode'], dtype=object)"
            ]
          },
          "metadata": {
            "tags": []
          },
          "execution_count": 81
        }
      ]
    },
    {
      "metadata": {
        "id": "ZXvMlVfBvRWT",
        "colab_type": "code",
        "colab": {}
      },
      "cell_type": "code",
      "source": [
        "#sns.distplot(products.StockCode, kde=False)"
      ],
      "execution_count": 0,
      "outputs": []
    },
    {
      "metadata": {
        "id": "6WBRPWHFvWyT",
        "colab_type": "code",
        "colab": {}
      },
      "cell_type": "code",
      "source": [
        "m = len(products.columns.values)\n",
        "\n",
        "fig, ax = plt.subplots(m-1,1,figsize=(10,4*m))\n",
        "n=0\n",
        "for col in org_cols:\n",
        "    if col != \"StockCode\":\n",
        "        sns.distplot(stats.boxcox(products.loc[:, col])[0], kde=False, ax=ax[n])\n",
        "        n+=1"
      ],
      "execution_count": 0,
      "outputs": []
    },
    {
      "metadata": {
        "id": "uupmAvIhvgLx",
        "colab_type": "code",
        "colab": {}
      },
      "cell_type": "code",
      "source": [
        "from sklearn.preprocessing import StandardScaler\n",
        "for col in org_cols:\n",
        "    if col != \"StockCode\":\n",
        "        products[col] = stats.boxcox(products[col])[0]\n",
        "\n",
        "X = products.values\n",
        "scaler = StandardScaler()\n",
        "X = scaler.fit_transform(X)"
      ],
      "execution_count": 0,
      "outputs": []
    },
    {
      "metadata": {
        "id": "j4-9qQ_Rv08U",
        "colab_type": "code",
        "colab": {}
      },
      "cell_type": "code",
      "source": [
        ""
      ],
      "execution_count": 0,
      "outputs": []
    }
  ]
}